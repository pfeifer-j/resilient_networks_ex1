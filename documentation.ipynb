{
 "cells": [
  {
   "cell_type": "markdown",
   "metadata": {},
   "source": [
    "# Documentation | Resilient Networks | Exercise 1\n",
    "\n",
    "## Group Information\n",
    "- Group Members: Luca Gebhard, Jan Pfeifer\n",
    "- Date: 10.11.2023\n",
    "\n",
    "## Introduction\n",
    "- In this exercise, we explore and analyze resilient networks using Python and the igraph library. We aim to compute and analyze network metrics for the given dataset.\n",
    "\n",
    "## Hints on Tools and Libraries\n",
    "- Programming Language: Python 3\n",
    "- Libraries: igraph, os\n",
    "\n",
    "## Methodology\n",
    "- Our methodology for solving this exercise involves the following steps:\n",
    "- todo\n",
    "\n",
    "### Step 1: Data Preparation\n",
    "- We acquired the dataset located in the 'data' directory.\n",
    "  - Gnutella09\n",
    "  - lastfm_asia\n",
    "\n",
    "### Step 2: Analysis\n",
    "- We computed the following metrics for both graphs:\n",
    "  - Power-law properties\n",
    "  - Characteristic path length | *von Luca implementiert*\n",
    "  - Density | *von Luca implementiert*\n",
    "  - Average clustering coefficient and distribution of clustering coefficient\n",
    "  - Distribution of Cohesiveness\n",
    "  - Edge persistence under greedy attack (removing nodes with highest node degree first)\n",
    "  - Resilience/Survivability against random and targeted attacks (greedy attack)\n",
    "\n",
    "### Step 3: Visualization\n",
    "- todo\n",
    "## Results\n",
    "- todo\n",
    "\n",
    "## Conclusion\n",
    "- todo\n",
    "\n"
   ]
  },
  {
   "cell_type": "markdown",
   "metadata": {},
   "source": []
  }
 ],
 "metadata": {
  "language_info": {
   "name": "python"
  }
 },
 "nbformat": 4,
 "nbformat_minor": 2
}
