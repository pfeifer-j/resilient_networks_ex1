{
 "cells": [
  {
   "cell_type": "markdown",
   "metadata": {},
   "source": [
    "# Documentation | Resilient Networks | Exercise 1\n",
    "\n",
    "## Group Information\n",
    "- Group Members: Luca Gebhard, Jan Pfeifer\n",
    "- Date: 10.11.2023\n",
    "\n",
    "## Introduction\n",
    "- In this exercise, we explore and analyze resilient networks using Python and the igraph library. We aim to compute and analyze network metrics for the given dataset.\n",
    "\n",
    "## Hints on Tools and Libraries\n",
    "- Programming Language: Python 3\n",
    "- Libraries: igraph, os\n"
   ]
  },
  {
   "cell_type": "markdown",
   "metadata": {},
   "source": [
    "## Methodology\n",
    "- Our methodology for solving this exercise involves the following steps:\n",
    "- todo\n",
    "\n",
    "### Step 1: Data Preparation\n",
    "- We acquired the dataset located in the 'data' directory.\n",
    "  - Gnutella09\n",
    "  - lastfm_asia\n",
    "\n",
    "### Step 2: Analysis\n",
    "- We computed the following metrics for both graphs:\n",
    "  - Power-law properties\n",
    "  - Characteristic path length | *von Luca implementiert*\n",
    "  - Density | *von Luca implementiert*\n",
    "  - Average clustering coefficient and distribution of clustering coefficient\n",
    "  - Distribution of Cohesiveness\n",
    "  - Edge persistence under greedy attack (removing nodes with highest node degree first)\n",
    "  - Resilience/Survivability against random and targeted attacks (greedy attack)\n",
    "\n",
    "### Step 3: Visualization\n",
    "- todo"
   ]
  },
  {
   "cell_type": "markdown",
   "metadata": {},
   "source": [
    "## Results\n",
    "- todo"
   ]
  },
  {
   "cell_type": "code",
   "execution_count": 9,
   "metadata": {},
   "outputs": [],
   "source": [
    "# Generating the graph\n",
    "\n",
    "import os\n",
    "from GraphInput import TxtFileGraphInput\n",
    "import matplotlib.pyplot as plt\n",
    "\n",
    "notebook_dir = os.getcwd()\n",
    "\n",
    "gnutella_file_path = os.path.join(\n",
    "    notebook_dir, \"data/p2p-Gnutella09/p2p-Gnutella09.txt\"\n",
    ")\n",
    "\n",
    "input = TxtFileGraphInput()\n",
    "input.read_input_file_and_convert(gnutella_file_path, directed=True)\n"
   ]
  },
  {
   "cell_type": "code",
   "execution_count": 11,
   "metadata": {},
   "outputs": [
    {
     "name": "stdout",
     "output_type": "stream",
     "text": [
      "Gnutella09 average path length:  7.054623534882817\n",
      "Gnutella09 density:  0.0003951608960942098\n"
     ]
    }
   ],
   "source": [
    "# Implemented or reserved by Luca\n",
    "print(\"Gnutella09 average path length: \", input.compute_average_path_length())\n",
    "print(\"Gnutella09 density: \", input.computed_density())\n",
    "# print(\"Gnutella09 Edge persistence under greedy attack: \", input.todo())"
   ]
  },
  {
   "cell_type": "code",
   "execution_count": 12,
   "metadata": {},
   "outputs": [
    {
     "name": "stdout",
     "output_type": "stream",
     "text": [
      "Gnutella09 Average clustering coefficient:  0.07314316246453513\n"
     ]
    },
    {
     "data": {
      "image/png": "[encoded data removed]",
      "text/plain": [
       "<Figure size 640x480 with 1 Axes>"
      ]
     },
     "metadata": {},
     "output_type": "display_data"
    }
   ],
   "source": [
    "# Implemented or reserved by Jan\n",
    "\n",
    "(\n",
    "    average_clustering_coefficient,\n",
    "    clustering_coefficient_distribution,\n",
    ") = input.compute_clustering_coefficient()\n",
    "\n",
    "print(\"Gnutella09 Average clustering coefficient: \", average_clustering_coefficient)\n",
    "\n",
    "# Create a histogram plot for the clustering coefficient distribution\n",
    "values = list(clustering_coefficient_distribution.keys())\n",
    "counts = list(clustering_coefficient_distribution.values())\n",
    "\n",
    "plt.hist(values, bins=20, alpha=0.5, color='b', edgecolor='k')\n",
    "plt.xlabel('Clustering Coefficient')\n",
    "plt.ylabel('Frequency')\n",
    "\n",
    "plt.show()"
   ]
  },
  {
   "cell_type": "code",
   "execution_count": null,
   "metadata": {},
   "outputs": [],
   "source": [
    "# Such dir was aus Luca :)\n",
    "# print(\"Gnutella09 Distribution of cohesiveness: \", input.todo())\n",
    "# print(\"Gnutella09 Resilience/Survivability: \", input.todo())"
   ]
  },
  {
   "cell_type": "markdown",
   "metadata": {},
   "source": [
    "# print(\"Gnutella09 Distribution of cohesiveness: \", input.todo())\n",
    "# print(\"Gnutella09 Resilience/Survivability: \", input.todo())"
   ]
  },
  {
   "cell_type": "markdown",
   "metadata": {},
   "source": [
    "## Conclusion\n",
    "- todo"
   ]
  },
  {
   "cell_type": "markdown",
   "metadata": {},
   "source": []
  }
 ],
 "metadata": {
  "kernelspec": {
   "display_name": "base",
   "language": "python",
   "name": "python3"
  },
  "language_info": {
   "codemirror_mode": {
    "name": "ipython",
    "version": 3
   },
   "file_extension": ".py",
   "mimetype": "text/x-python",
   "name": "python",
   "nbconvert_exporter": "python",
   "pygments_lexer": "ipython3",
   "version": "3.11.5"
  }
 },
 "nbformat": 4,
 "nbformat_minor": 2
}
